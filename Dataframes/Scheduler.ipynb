{
 "cells": [
  {
   "cell_type": "code",
   "execution_count": 1,
   "metadata": {},
   "outputs": [
    {
     "name": "stdout",
     "output_type": "stream",
     "text": [
      "Note: you may need to restart the kernel to use updated packages.Collecting papermill\n",
      "  Downloading papermill-2.3.4-py3-none-any.whl (37 kB)\n",
      "Collecting nbclient>=0.2.0\n",
      "  Downloading nbclient-0.6.3-py3-none-any.whl (71 kB)\n",
      "     -------------------------------------- 71.5/71.5 KB 651.4 kB/s eta 0:00:00\n",
      "Requirement already satisfied: click in c:\\users\\fluffy\\appdata\\local\\programs\\pythoncodingpack\\lib\\site-packages (from papermill) (8.0.3)\n",
      "Requirement already satisfied: requests in c:\\users\\fluffy\\appdata\\local\\programs\\pythoncodingpack\\lib\\site-packages (from papermill) (2.26.0)\n",
      "Requirement already satisfied: pyyaml in c:\\users\\fluffy\\appdata\\local\\programs\\pythoncodingpack\\lib\\site-packages (from papermill) (6.0)\n",
      "Collecting ansiwrap\n",
      "  Downloading ansiwrap-0.8.4-py2.py3-none-any.whl (8.5 kB)\n",
      "Requirement already satisfied: tqdm>=4.32.2 in c:\\users\\fluffy\\appdata\\local\\programs\\pythoncodingpack\\lib\\site-packages (from papermill) (4.62.3)\n",
      "Collecting tenacity\n",
      "  Downloading tenacity-8.0.1-py3-none-any.whl (24 kB)\n",
      "Requirement already satisfied: entrypoints in c:\\users\\fluffy\\appdata\\local\\programs\\pythoncodingpack\\lib\\site-packages (from papermill) (0.3)\n",
      "Collecting nbformat>=5.1.2\n",
      "  Downloading nbformat-5.4.0-py3-none-any.whl (73 kB)\n",
      "     -------------------------------------- 73.3/73.3 KB 808.6 kB/s eta 0:00:00\n",
      "Collecting nest-asyncio\n",
      "  Downloading nest_asyncio-1.5.5-py3-none-any.whl (5.2 kB)\n",
      "Requirement already satisfied: jupyter-client>=6.1.5 in c:\\users\\fluffy\\appdata\\local\\programs\\pythoncodingpack\\lib\\site-packages (from nbclient>=0.2.0->papermill) (6.1.6)\n",
      "Requirement already satisfied: traitlets>=5.0.0 in c:\\users\\fluffy\\appdata\\local\\programs\\pythoncodingpack\\lib\\site-packages (from nbclient>=0.2.0->papermill) (5.1.0)\n",
      "Requirement already satisfied: jsonschema>=2.6 in c:\\users\\fluffy\\appdata\\local\\programs\\pythoncodingpack\\lib\\site-packages (from nbformat>=5.1.2->papermill) (3.2.0)\n",
      "\n",
      "Requirement already satisfied: jupyter-core in c:\\users\\fluffy\\appdata\\local\\programs\\pythoncodingpack\\lib\\site-packages (from nbformat>=5.1.2->papermill) (4.6.3)\n",
      "Collecting fastjsonschema\n",
      "  Downloading fastjsonschema-2.15.3-py3-none-any.whl (22 kB)\n",
      "Requirement already satisfied: colorama in c:\\users\\fluffy\\appdata\\local\\programs\\pythoncodingpack\\lib\\site-packages (from tqdm>=4.32.2->papermill) (0.4.3)\n",
      "Collecting textwrap3>=0.9.2\n",
      "  Downloading textwrap3-0.9.2-py2.py3-none-any.whl (12 kB)\n"
     ]
    },
    {
     "name": "stderr",
     "output_type": "stream",
     "text": [
      "WARNING: You are using pip version 22.0.4; however, version 22.1.1 is available.\n",
      "You should consider upgrading via the 'c:\\Users\\Fluffy\\AppData\\Local\\Programs\\PythonCodingPack\\python.exe -m pip install --upgrade pip' command.\n"
     ]
    },
    {
     "name": "stdout",
     "output_type": "stream",
     "text": [
      "Requirement already satisfied: charset-normalizer~=2.0.0 in c:\\users\\fluffy\\appdata\\local\\programs\\pythoncodingpack\\lib\\site-packages (from requests->papermill) (2.0.6)\n",
      "Requirement already satisfied: urllib3<1.27,>=1.21.1 in c:\\users\\fluffy\\appdata\\local\\programs\\pythoncodingpack\\lib\\site-packages (from requests->papermill) (1.26.7)\n",
      "Requirement already satisfied: idna<4,>=2.5 in c:\\users\\fluffy\\appdata\\local\\programs\\pythoncodingpack\\lib\\site-packages (from requests->papermill) (3.2)\n",
      "Requirement already satisfied: certifi>=2017.4.17 in c:\\users\\fluffy\\appdata\\local\\programs\\pythoncodingpack\\lib\\site-packages (from requests->papermill) (2022.5.18.1)\n",
      "Requirement already satisfied: six>=1.11.0 in c:\\users\\fluffy\\appdata\\local\\programs\\pythoncodingpack\\lib\\site-packages (from jsonschema>=2.6->nbformat>=5.1.2->papermill) (1.15.0)\n",
      "Requirement already satisfied: pyrsistent>=0.14.0 in c:\\users\\fluffy\\appdata\\local\\programs\\pythoncodingpack\\lib\\site-packages (from jsonschema>=2.6->nbformat>=5.1.2->papermill) (0.16.0)\n",
      "Requirement already satisfied: attrs>=17.4.0 in c:\\users\\fluffy\\appdata\\local\\programs\\pythoncodingpack\\lib\\site-packages (from jsonschema>=2.6->nbformat>=5.1.2->papermill) (19.3.0)\n",
      "Requirement already satisfied: setuptools in c:\\users\\fluffy\\appdata\\local\\programs\\pythoncodingpack\\lib\\site-packages (from jsonschema>=2.6->nbformat>=5.1.2->papermill) (47.1.0)\n",
      "Requirement already satisfied: tornado>=4.1 in c:\\users\\fluffy\\appdata\\local\\programs\\pythoncodingpack\\lib\\site-packages (from jupyter-client>=6.1.5->nbclient>=0.2.0->papermill) (6.1)\n",
      "Requirement already satisfied: python-dateutil>=2.1 in c:\\users\\fluffy\\appdata\\local\\programs\\pythoncodingpack\\lib\\site-packages (from jupyter-client>=6.1.5->nbclient>=0.2.0->papermill) (2.8.1)\n",
      "Requirement already satisfied: pyzmq>=13 in c:\\users\\fluffy\\appdata\\local\\programs\\pythoncodingpack\\lib\\site-packages (from jupyter-client>=6.1.5->nbclient>=0.2.0->papermill) (19.0.2)\n",
      "Requirement already satisfied: pywin32>=1.0 in c:\\users\\fluffy\\appdata\\local\\programs\\pythoncodingpack\\lib\\site-packages (from jupyter-core->nbformat>=5.1.2->papermill) (227)\n",
      "Installing collected packages: textwrap3, fastjsonschema, tenacity, nest-asyncio, ansiwrap, nbformat, nbclient, papermill\n",
      "  Attempting uninstall: nbformat\n",
      "    Found existing installation: nbformat 5.0.7\n",
      "    Uninstalling nbformat-5.0.7:\n",
      "      Successfully uninstalled nbformat-5.0.7\n",
      "Successfully installed ansiwrap-0.8.4 fastjsonschema-2.15.3 nbclient-0.6.3 nbformat-5.4.0 nest-asyncio-1.5.5 papermill-2.3.4 tenacity-8.0.1 textwrap3-0.9.2\n"
     ]
    }
   ],
   "source": [
    "pip install papermill"
   ]
  },
  {
   "cell_type": "code",
   "execution_count": null,
   "metadata": {},
   "outputs": [],
   "source": [
    "papermill Data Scraping"
   ]
  }
 ],
 "metadata": {
  "interpreter": {
   "hash": "8691f65de227c2dd14ae9ac858e1fa0e22abdb1615ca6522899f00b2d15c28a2"
  },
  "kernelspec": {
   "display_name": "Python 3.8.5 64-bit",
   "language": "python",
   "name": "python3"
  },
  "language_info": {
   "codemirror_mode": {
    "name": "ipython",
    "version": 3
   },
   "file_extension": ".py",
   "mimetype": "text/x-python",
   "name": "python",
   "nbconvert_exporter": "python",
   "pygments_lexer": "ipython3",
   "version": "3.8.5"
  },
  "orig_nbformat": 4
 },
 "nbformat": 4,
 "nbformat_minor": 2
}
